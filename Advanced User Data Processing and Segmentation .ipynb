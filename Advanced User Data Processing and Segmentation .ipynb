{
 "cells": [
  {
   "cell_type": "markdown",
   "metadata": {
    "id": "UCjlyTyyJm9R"
   },
   "source": [
    "# Advanced User Data Processing and Segmentation  #\n",
    "\n",
    "\n",
    "**Proyecto:** Extracción y Análisis Avanzado del Comportamiento del Usuario\n",
    "\n",
    "**Autor:** Carlos Smith\n",
    "\n",
    "**Fecha:** Junio 2025\n",
    "\n",
    "*Descripción del Proyecto:*\n",
    "\n",
    "Este proyecto se adentra en la extracción de información significativa y el análisis profundo de los hábitos de consumo de los usuarios, partiendo de los datos previamente limpiados y estructurados en la fase anterior. Aborda el desafío de transformar datos anidados y complejos en insights accionables, crucial para la toma de decisiones estratégicas.\n",
    "\n",
    "🎯 *Objetivos Clave:*\n",
    "\n",
    "- **Extracción de Datos Avanzada:** Implementar lógicas para acceder y manipular información compleja dentro de estructuras de datos anidadas.\n",
    "- **Análisis de Comportamiento:** Calcular métricas clave del comportamiento de gasto del usuario para identificar patrones y preferencias.\n",
    "- **Generación de Insights:** Producir resúmenes y agregaciones de datos que respondan directamente a las necesidades estratégicas de la dirección.\n",
    "- **Optimización de Presentación:** Formatear los resultados de manera clara y profesional para diversas audiencias, incluyendo stakeholders técnicos y no técnicos.\n",
    "\n",
    "🛠️ *Habilidades Demostradas:*\n",
    "\n",
    "- **Python:** Dominio en la manipulación de estructuras de datos complejas (listas anidadas, diccionarios), agregación de datos y uso eficiente de funciones.\n",
    "- **Análisis de Datos:** Capacidad para definir métricas relevantes, calcular agregados y extraer patrones de comportamiento.\n",
    "- **Resolución de Problemas:** Habilidad para diseñar soluciones efectivas para la extracción de datos desde formatos no tabulares estándar.\n",
    "- **Pensamiento Lógico/Algorítmico:** Creación de algoritmos eficientes para procesar y transformar grandes volúmenes de datos.\n",
    "- **Comunicación Estratégica:** Presentación de resultados de análisis en formatos ejecutivos, facilitando la comprensión y la toma de decisiones basadas en datos.\n",
    "\n",
    "Este proyecto subraya la capacidad para ir más allá de la limpieza de datos, enfocándose en la extracción de valor y la generación de insights accionables a partir de conjuntos de datos con mayor complejidad, una habilidad indispensable para un analista de datos avanzado.\n",
    "\n",
    "---\n",
    "\n",
    "**Contexto del Análisis:**\n",
    "\n",
    "Tras establecer una base sólida con la limpieza y estructuración de los perfiles de usuario en el Proyecto 1, esta segunda fase se concentra en la profundización del análisis de los hábitos de consumo. El objetivo es proporcionar al cliente una comprensión detallada de cómo los usuarios interactúan con las diferentes categorías de productos y sus patrones de gasto, facilitando así decisiones de negocio más informadas y personalizadas."
   ]
  },
  {
   "cell_type": "markdown",
   "metadata": {
    "id": "4ZzATQthJm9Y"
   },
   "source": [
    "Las empresas recopilan y almacenan datos de una forma particular. Store 1 quiere almacenar toda la información de sus clientes en una tabla.\n",
    "\n",
    "\n",
    "| user_id | user_name | user_age | purchase_category | spending_per_category |\n",
    "| --- | --- | --- | --- | --- |\n",
    "| '32415' | 'mike', 'reed' | 32 | 'electronics', 'sport', 'books' | 894, 213, 173 |\n",
    "| '31980' | 'kate', 'morgan' | 24 | 'clothes', 'shoes' | 439, 390 |\n",
    "\n",
    "En términos técnicos, una tabla es simplemente una lista anidada que contiene una sublista para cada usuario o usuaria.\n",
    "\n",
    "Store 1 ha creado una tabla de este tipo para sus usuarios. Está almacenada en la variable \"users\". Cada sublista contiene el ID del usuario, nombre y apellido, edad, categorías favoritas y el importe gastado en cada categoría."
   ]
  },
  {
   "cell_type": "markdown",
   "metadata": {
    "id": "EMQlsEYlxGET"
   },
   "source": [
    "-\t**user_id:** el identificador único para cada usuario.\n",
    "-\t**user_name:** el nombre de usuario.\n",
    "-\t**user_age:** la edad del usuario.\n",
    "-\t**fav_categories:** las categorías de artículos comprados por el usuario, como 'ELECTRONICS', 'SPORT', 'BOOKS', etc.\n",
    "-\t**total_spendings:** la lista de enteros que indican la cantidad gastada en cada una de sus categorías favoritas.\n"
   ]
  },
  {
   "cell_type": "code",
   "execution_count": 1,
   "metadata": {
    "id": "LfBCH4crxLOt",
    "trusted": true
   },
   "outputs": [],
   "source": [
    "users = [\n",
    "    ['32415', ' mike_reed ', 32.0, ['ELECTRONICS', 'SPORT', 'BOOKS'], [894, 213, 173]],\n",
    "    ['31980', 'kate morgan', 24.0, ['CLOTHES', 'BOOKS'], [439, 390]],\n",
    "    ['32156', ' john doe ', 37.0, ['ELECTRONICS', 'HOME', 'FOOD'], [459, 120, 99]],\n",
    "    ['32761', 'SAMANTHA SMITH', 29.0, ['CLOTHES', 'ELECTRONICS', 'BEAUTY'], [299, 679, 85]],\n",
    "    ['32984', 'David White', 41.0, ['BOOKS', 'HOME', 'SPORT'], [234, 329, 243]],\n",
    "    ['33001', 'emily brown', 26.0, ['BEAUTY', 'HOME', 'FOOD'], [213, 659, 79]],\n",
    "    ['33767', ' Maria Garcia', 33.0, ['CLOTHES', 'FOOD', 'BEAUTY'], [499, 189, 63]],\n",
    "    ['33912', 'JOSE MARTINEZ', 22.0, ['SPORT', 'ELECTRONICS', 'HOME'], [259, 549, 109]],\n",
    "    ['34009', 'lisa wilson ', 35.0, ['HOME', 'BOOKS', 'CLOTHES'], [329, 189, 329]],\n",
    "    ['34278', 'James Lee', 28.0, ['BEAUTY', 'CLOTHES', 'ELECTRONICS'], [189, 299, 579]],\n",
    "]\n"
   ]
  },
  {
   "cell_type": "markdown",
   "metadata": {
    "id": "vgnoxECvlWvr"
   },
   "source": [
    "###  **Paso 1: Encapsulando la Lógica de Limpieza en una Función Reutilizable**\n",
    "\n",
    "En la fase final del Proyecto 1, desarrollamos un proceso robusto para limpiar y estructurar los datos de los usuarios. Este proceso incluía:\n",
    "\n",
    "- **Normalización de Nombres:** Eliminación de espacios superfluos y reemplazo de guiones bajos (_).\n",
    "- **Conversión de Edad:** Transformación del valor de la edad a un tipo de dato entero (int).\n",
    "- **Descomposición de Nombres:** División del nombre completo en una sublista con nombre y apellido.\n",
    "\n",
    "Ahora, para hacer nuestro código más eficiente, modular y reutilizable, encapsularemos esta lógica de limpieza dentro de una función. Esta práctica es fundamental en el desarrollo de software y análisis de datos, ya que permite aplicar el mismo conjunto de transformaciones a cualquier registro de usuario con una sola llamada.\n",
    "\n",
    "**Objetivo**\n",
    "\n",
    "Nuestro objetivo es crear una función llamada clean_user que acepte la información de un usuario y los índices específicos de su nombre y edad. La función aplicará las transformaciones previamente definidas y devolverá el registro del usuario ya limpio. Luego, probaremos esta función con un usuario de prueba para verificar su correcto funcionamiento.\n",
    "\n",
    "**Implementación de la Función clean_user**\n",
    "\n",
    "La función clean_user recibirá tres argumentos:\n",
    "\n",
    "- **user_info:** Una lista que contiene toda la información de un cliente individual.\n",
    "- **name_index:** Un entero que indica la posición del nombre del cliente dentro de user_info.\n",
    "- **age_index:** Un entero que indica la posición de la edad del cliente dentro de user_info.\n"
   ]
  },
  {
   "cell_type": "code",
   "execution_count": 2,
   "metadata": {
    "colab": {
     "base_uri": "https://localhost:8080/"
    },
    "id": "RN6LIlHelWvr",
    "outputId": "632ceadd-0f9a-46cf-91c1-b4bea53623d0",
    "trusted": true
   },
   "outputs": [
    {
     "name": "stdout",
     "output_type": "stream",
     "text": [
      "['32415', ['mike', 'reed'], 32, ['ELECTRONICS', 'SPORT', 'BOOKS'], [894, 213, 173]]\n"
     ]
    }
   ],
   "source": [
    "def clean_user(user_info, ind_name,ind_age):# define tu función aquí\n",
    "\n",
    "    # Paso 1: elimina del nombre espacios iniciales y finales, así como guiones\n",
    "    user_name_1 = user_info[ind_name].replace(\"_\",\" \") #Accediendo al nombre del usuario y remplazando guiones bajo\n",
    "    user_name_1=user_name_1.strip() #Quitando espacios en blanco del nombre del usuario\n",
    "    # Paso 2: convierte la edad en entero\n",
    "    user_age_1 = int(user_info[ind_age]) #Convirtiendo la edad en entero\n",
    "    # Paso 3: separa el nombre y el apellido en una sublista\n",
    "    user_name_1=user_name_1.split(\" \") #Diviendo el nombre y apellido\n",
    "\n",
    "    # Prepara la lista con la información completa del usuario\n",
    "    # Reemplaza el nombre y la edad originales con los datos limpios\n",
    "    user_info[ind_name]=user_name_1 #Asignando nombre 'limpio' al indice correspondiente\n",
    "    user_info[ind_age]=user_age_1 #Asignando edad 'limpia' al indice correspondiente\n",
    "\n",
    "    return user_info #Arrojando el nombre del usuario con datos corregidos\n",
    "\n",
    "# Prueba la función\n",
    "test_user = ['32415', ' mike_reed ', 32.0, ['ELECTRONICS', 'SPORT', 'BOOKS'], [894, 213, 173]]\n",
    "name_index = 1\n",
    "age_index = 2\n",
    "\n",
    "print(clean_user(test_user,name_index,age_index)) #Llamado de la función "
   ]
  },
  {
   "cell_type": "markdown",
   "metadata": {},
   "source": [
    "Al encapsular esta lógica en una función, demostramos la habilidad para escribir código modular, reutilizable y mantenible, lo cual es una soft skill altamente valorada en roles de analista de datos. Esto también sienta las bases para procesar grandes conjuntos de datos de manera eficiente en los próximos pasos."
   ]
  },
  {
   "cell_type": "markdown",
   "metadata": {
    "id": "zF6ADQNLJm9W"
   },
   "source": [
    "### **Paso 2: Normalización de Categorías Favoritas a Minúsculas**\n",
    "\n",
    "En nuestro conjunto de datos, hemos observado que las categorías favoritas de los usuarios +(fav_categories)* están almacenadas completamente en mayúsculas. Para garantizar la consistencia y facilitar análisis posteriores (como agrupaciones o búsquedas, que suelen ser case-sensitive), es una buena práctica normalizar estos valores a minúsculas.\n",
    "\n",
    "\n",
    "**Objetivo**\n",
    "\n",
    "Nuestro objetivo en este paso es crear una nueva lista llamada *fav_categories_low* que contenga todas las categorías favoritas de un usuario, pero transformadas a minúsculas. Esto asegurará la uniformidad de los datos de categoría.\n",
    "\n",
    "\n",
    "**Acción Clave**\n",
    "\n",
    "Vamos a iterar sobre cada categoría en la lista original *fav_categories*. Por cada categoría, aplicaremos el método *lower()* para convertirla a minúsculas y luego la añadiremos a nuestra nueva lista *fav_categories_low*. Finalmente, desplegaremos el contenido de *fav_categories_low* para verificar la transformación.\n"
   ]
  },
  {
   "cell_type": "code",
   "execution_count": 3,
   "metadata": {
    "colab": {
     "base_uri": "https://localhost:8080/"
    },
    "id": "Ltoq2LXjJm9W",
    "outputId": "5a05c845-8d3c-4890-8070-38ccb63dd5b4",
    "trusted": true
   },
   "outputs": [
    {
     "name": "stdout",
     "output_type": "stream",
     "text": [
      "['electronics', 'sport', 'books']\n"
     ]
    }
   ],
   "source": [
    "fav_categories = ['ELECTRONICS', 'SPORT', 'BOOKS']\n",
    "fav_categories_low = []\n",
    "\n",
    "for element in fav_categories:\n",
    "    fav_categories_low.append(element.lower())#Agregando valores de categorias en minusculas a lista\n",
    "\n",
    "print(fav_categories_low)"
   ]
  },
  {
   "cell_type": "markdown",
   "metadata": {},
   "source": [
    "Normalizar el uso de mayúsculas y minúsculas en los datos es una habilidad fundamental en la limpieza de datos, ya que previene inconsistencias y errores en los análisis, demostrando tu atención al detalle y tu proactividad en la gestión de la calidad de los datos."
   ]
  },
  {
   "cell_type": "markdown",
   "metadata": {
    "id": "xhKqJwaqdrRu"
   },
   "source": [
    "### **Paso 3: Normalización Masiva de Categorías a Minúsculas para Todos los Usuarios**\n",
    "\n",
    "Hemos visto cómo normalizar las categorías a minúsculas para un único usuario. Ahora, extenderemos esta lógica para aplicarla a todos los usuarios de nuestra base de datos. Esta es una tarea común en la preparación de datos a gran escala y es esencial para garantizar la consistencia en todo el conjunto de datos.\n",
    "\n",
    "**Objetivo**\n",
    "\n",
    "Nuestro objetivo es crear una nueva lista, *users_categories_low*, que contendrá la información de todos los usuarios de la lista *users*, pero con sus respectivas listas de categorías favoritas (*fav_categories*) convertidas completamente a minúsculas.\n",
    "\n",
    "**Acción Clave**\n",
    "\n",
    "Para lograr esto, realizaremos una doble iteración:\n",
    "\n",
    "- Primero, iteraremos a través de cada *user* en la lista principal *users*.\n",
    "- Dentro de cada *user*, accederemos a su lista de ¨*fav_categories* y la recorreremos, transformando cada categoría individual a minúsculas.\n",
    "- Una vez que tengamos las categorías normalizadas para un usuario, construiremos un nuevo registro de usuario con esta información y lo añadiremos a *users_categories_low*.\n"
   ]
  },
  {
   "cell_type": "code",
   "execution_count": 4,
   "metadata": {
    "colab": {
     "base_uri": "https://localhost:8080/"
    },
    "id": "uBfnDzZfdrR1",
    "outputId": "6e0b3a3b-c94e-4402-a9d1-dc88fe07256e",
    "trusted": true
   },
   "outputs": [
    {
     "name": "stdout",
     "output_type": "stream",
     "text": [
      "[['32415', ' mike_reed ', 32.0, ['electronics', 'sport', 'books'], [894, 213, 173]], ['31980', 'kate morgan', 24.0, ['clothes', 'books'], [439, 390]], ['32156', ' john doe ', 37.0, ['electronics', 'home', 'food'], [459, 120, 99]], ['32761', 'SAMANTHA SMITH', 29.0, ['clothes', 'electronics', 'beauty'], [299, 679, 85]], ['32984', 'David White', 41.0, ['books', 'home', 'sport'], [234, 329, 243]], ['33001', 'emily brown', 26.0, ['beauty', 'home', 'food'], [213, 659, 79]], ['33767', ' Maria Garcia', 33.0, ['clothes', 'food', 'beauty'], [499, 189, 63]], ['33912', 'JOSE MARTINEZ', 22.0, ['sport', 'electronics', 'home'], [259, 549, 109]], ['34009', 'lisa wilson ', 35.0, ['home', 'books', 'clothes'], [329, 189, 329]], ['34278', 'James Lee', 28.0, ['beauty', 'clothes', 'electronics'], [189, 299, 579]]]\n"
     ]
    }
   ],
   "source": [
    "users = [\n",
    "    ['32415', ' mike_reed ', 32.0, ['ELECTRONICS', 'SPORT', 'BOOKS'], [894, 213, 173]],\n",
    "    ['31980', 'kate morgan', 24.0, ['CLOTHES', 'BOOKS'], [439, 390]],\n",
    "    ['32156', ' john doe ', 37.0, ['ELECTRONICS', 'HOME', 'FOOD'], [459, 120, 99]],\n",
    "    ['32761', 'SAMANTHA SMITH', 29.0, ['CLOTHES', 'ELECTRONICS', 'BEAUTY'], [299, 679, 85]],\n",
    "    ['32984', 'David White', 41.0, ['BOOKS', 'HOME', 'SPORT'], [234, 329, 243]],\n",
    "    ['33001', 'emily brown', 26.0, ['BEAUTY', 'HOME', 'FOOD'], [213, 659, 79]],\n",
    "    ['33767', ' Maria Garcia', 33.0, ['CLOTHES', 'FOOD', 'BEAUTY'], [499, 189, 63]],\n",
    "    ['33912', 'JOSE MARTINEZ', 22.0, ['SPORT', 'ELECTRONICS', 'HOME'], [259, 549, 109]],\n",
    "    ['34009', 'lisa wilson ', 35.0, ['HOME', 'BOOKS', 'CLOTHES'], [329, 189, 329]],\n",
    "    ['34278', 'James Lee', 28.0, ['BEAUTY', 'CLOTHES', 'ELECTRONICS'], [189, 299, 579]],\n",
    "]\n",
    "\n",
    "users_categories_low = []\n",
    "for user in users:#Iterando en cada usuario\n",
    "    categories_low = [] # Definiendo lista donde se almacenaran las categorias en minúsculas\n",
    "    users_categories = user[3] #Definiendo con índice la ubicación de las categorias\n",
    "    for category in users_categories:  # Revisando cada categoría de usuario\n",
    "        categories_low.append(category.lower()) #Agregando a la lista antes definida, las categorías en minúsculas.\n",
    "    user.pop(3) # Eliminando las categorías en mayúsculas.\n",
    "    user.insert(3,categories_low) # Agregando categorías en minúsculas al usuario.\n",
    "    users_categories_low.append(user) # Agregando el usuario a la lista users_categories_low\n",
    "\n",
    "print(users_categories_low) #Imprimiendo lista con categorías corregidas."
   ]
  },
  {
   "cell_type": "markdown",
   "metadata": {
    "id": "uisdgp0or8rS"
   },
   "source": [
    "### **Paso 4: Finalizando la Función clean_user y Limpieza Global de Datos**\n",
    "\n",
    "En los pasos anteriores, hemos desarrollado la lógica para limpiar nombres, edades y categorías por separado. Ahora, es momento de consolidar todas estas transformaciones en nuestra función *clean_user* para que sea una herramienta integral de preprocesamiento de datos. Luego, aplicaremos esta función mejorada a toda nuestra lista de usuarios.\n",
    "\n",
    "**Objetivo**\n",
    "\n",
    "Nuestro objetivo es perfeccionar la función *clean_user* para que también maneje la normalización de las categorías favoritas. Esto implica:\n",
    "\n",
    "- Añadir un parámetro a *clean_user* para especificar el índice de las categorías.\n",
    "- Asegurar que los nombres se conviertan a minúsculas antes de eliminar espacios y reemplazar guiones bajos, garantizando una limpieza completa y consistente.\n",
    "Una vez actualizada la función, la aplicaremos a cada registro en nuestra lista de users y almacenaremos los resultados en una nueva lista llamada users_clean, que luego mostraremos.\n",
    "\n",
    "**Refinando la Función *clean_user***\n",
    "\n",
    "Vamos a modificar nuestra función *clean_user*"
   ]
  },
  {
   "cell_type": "code",
   "execution_count": 5,
   "metadata": {
    "colab": {
     "base_uri": "https://localhost:8080/"
    },
    "id": "ioGD_Cs5r8ra",
    "outputId": "fddb59df-a686-4270-9a01-1803d53a0da9",
    "trusted": true
   },
   "outputs": [
    {
     "name": "stdout",
     "output_type": "stream",
     "text": [
      "[['32415', ['mike', 'reed'], 32, ['electronics', 'sport', 'books'], [894, 213, 173]], ['31980', ['kate', 'morgan'], 24, ['clothes', 'books'], [439, 390]], ['32156', ['john', 'doe'], 37, ['electronics', 'home', 'food'], [459, 120, 99]], ['32761', ['samantha', 'smith'], 29, ['clothes', 'electronics', 'beauty'], [299, 679, 85]], ['32984', ['david', 'white'], 41, ['books', 'home', 'sport'], [234, 329, 243]], ['33001', ['emily', 'brown'], 26, ['beauty', 'home', 'food'], [213, 659, 79]], ['33767', ['maria', 'garcia'], 33, ['clothes', 'food', 'beauty'], [499, 189, 63]], ['33912', ['jose', 'martinez'], 22, ['sport', 'electronics', 'home'], [259, 549, 109]], ['34009', ['lisa', 'wilson'], 35, ['home', 'books', 'clothes'], [329, 189, 329]], ['34278', ['james', 'lee'], 28, ['beauty', 'clothes', 'electronics'], [189, 299, 579]]]\n"
     ]
    }
   ],
   "source": [
    "def clean_user(user_info, name_index, age_index, cat_index):\n",
    "  # Paso 1: pon todo en minúsculas y elimina del nombre espacios iniciales y finales, así como guiones\n",
    "    user_name_1 = user_info[name_index].lower().replace(\"_\",\" \").strip()\n",
    "\n",
    "  # Paso 2: convierte la edad en entero\n",
    "    user_age_1 = int(user_info[age_index])\n",
    "\n",
    "  # Paso 3: separa el nombre y el apellido en una sublista\n",
    "    user_name_1 = user_name_1.split(\" \")\n",
    "\n",
    "  # Paso 4: convierte en minúsculas todas las categorías\n",
    "    categories_low = []\n",
    "    for category in user[cat_index]:\n",
    "        categories_low.append(category.lower())\n",
    "    user_info.pop(cat_index)\n",
    "    user_info.insert(cat_index, categories_low)\n",
    "\n",
    "  # Prepara la lista con la información completa del usuario\n",
    "    clean_user_info=[]\n",
    "  # Reemplaza el nombre y la edad originales con los datos limpios\n",
    "    clean_user_info=[user_info[0],user_name_1, user_age_1,user_info[cat_index],user_info[4]]\n",
    "    return  clean_user_info\n",
    "\n",
    "\n",
    "users = [\n",
    "    ['32415', ' mike_reed ', 32.0, ['ELECTRONICS', 'SPORT', 'BOOKS'], [894, 213, 173]],\n",
    "    ['31980', 'kate morgan', 24.0, ['CLOTHES', 'BOOKS'], [439, 390]],\n",
    "    ['32156', ' john doe ', 37.0, ['ELECTRONICS', 'HOME', 'FOOD'], [459, 120, 99]],\n",
    "    ['32761', 'SAMANTHA SMITH', 29.0, ['CLOTHES', 'ELECTRONICS', 'BEAUTY'], [299, 679, 85]],\n",
    "    ['32984', 'David White', 41.0, ['BOOKS', 'HOME', 'SPORT'], [234, 329, 243]],\n",
    "    ['33001', 'emily brown', 26.0, ['BEAUTY', 'HOME', 'FOOD'], [213, 659, 79]],\n",
    "    ['33767', ' Maria Garcia', 33.0, ['CLOTHES', 'FOOD', 'BEAUTY'], [499, 189, 63]],\n",
    "    ['33912', 'JOSE MARTINEZ', 22.0, ['SPORT', 'ELECTRONICS', 'HOME'], [259, 549, 109]],\n",
    "    ['34009', 'lisa wilson ', 35.0, ['HOME', 'BOOKS', 'CLOTHES'], [329, 189, 329]],\n",
    "    ['34278', 'James Lee', 28.0, ['BEAUTY', 'CLOTHES', 'ELECTRONICS'], [189, 299, 579]],\n",
    "]\n",
    "\n",
    "name_index = 1\n",
    "age_index = 2\n",
    "cat_index = 3\n",
    "users_cleaned = []\n",
    "\n",
    "for user in users: #Iterando sobre cada usuario\n",
    "  user_cleaned = clean_user(user, name_index, age_index, cat_index) #Armando usuario con datos corregidos\n",
    "  users_cleaned.append(user_cleaned) # Agregando el usuario a lista corregida\n",
    "\n",
    "print(users_cleaned)"
   ]
  },
  {
   "cell_type": "markdown",
   "metadata": {},
   "source": [
    "Al consolidar estas operaciones en una única función clean_user y aplicarla en un bucle, demuestras no solo habilidades de programación modular y eficiente, sino también un entendimiento de la automatización de tareas de preprocesamiento de datos a escala, una capacidad muy valorada para un analista de datos."
   ]
  },
  {
   "cell_type": "markdown",
   "metadata": {
    "id": "eONfrv9nJm9Y"
   },
   "source": [
    "### **Paso 5: Cálculo de Ingresos Totales de la Empresa**\n",
    "\n",
    "Ahora que nuestros datos de clientes están limpios y estandarizados, la dirección de la empresa está interesada en obtener una métrica de negocio fundamental: los ingresos totales generados por todos los clientes. Este valor es crucial para evaluar el rendimiento general y la salud financiera de la empresa.\n",
    "\n",
    "**Objetivo**\n",
    "\n",
    "Nuestro objetivo es calcular la suma de todos los gastos de cada usuario y, posteriormente, agregar estos totales individuales para obtener los ingresos totales globales de la empresa.\n",
    "\n",
    "**Acciones Clave**\n",
    "\n",
    "Para lograr esto, seguiremos un proceso de agregación de datos:\n",
    "\n",
    "- **Iterar sobre la lista de usuarios**: Recorreremos cada registro de usuario en nuestra lista users (o users_clean si ya aplicaste el Paso 4 a la lista completa).\n",
    "- **Extraer y sumar gastos por usuario**: Para cada usuario, accederemos a su lista de total_spendings (gastos por categoría) y sumaremos todos los valores que contiene para obtener el gasto total de ese usuario.\n",
    "- **Acumular ingresos totales**: Sumaremos el gasto total de cada usuario a una variable acumuladora, que finalmente representará los ingresos totales de la empresa."
   ]
  },
  {
   "cell_type": "code",
   "execution_count": 6,
   "metadata": {
    "colab": {
     "base_uri": "https://localhost:8080/"
    },
    "id": "ijzboKgoJm9Y",
    "outputId": "9aad5fe8-55ec-475b-9b40-afc590ae05e6",
    "trusted": true
   },
   "outputs": [
    {
     "name": "stdout",
     "output_type": "stream",
     "text": [
      "Los ingresos totales de la empresa son: $9189\n"
     ]
    }
   ],
   "source": [
    "users = [['32415', ['mike', 'reed'], 32, ['electronics', 'sport', 'books'], [894, 213, 173]],\n",
    "         ['31980', ['kate', 'morgan'], 24, ['clothes', 'books'], [439, 390]],\n",
    "         ['32156', ['john', 'doe'], 37, ['electronics', 'home', 'food'], [459, 120, 99]],\n",
    "         ['32761', ['samantha', 'smith'], 29, ['clothes', 'electronics', 'beauty'], [299, 679, 85]],\n",
    "         ['32984', ['david', 'white'], 41, ['books', 'home', 'sport'], [234, 329, 243]],\n",
    "         ['33001', ['emily', 'brown'], 26, ['beauty', 'home', 'food'], [213, 659, 79]],\n",
    "         ['33767', ['maria', 'garcia'], 33, ['clothes', 'food', 'beauty'], [499, 189, 63]],\n",
    "         ['33912', ['jose', 'martinez'], 22, ['sport', 'electronics', 'home'], [259, 549, 109]],\n",
    "         ['34009', ['lisa', 'wilson'], 35, ['home', 'books', 'clothes'], [329, 189, 329]],\n",
    "         ['34278', ['james', 'lee'], 28, ['beauty', 'clothes', 'electronics'], [189, 299, 579]]]\n",
    "\n",
    "revenue = 0\n",
    "\n",
    "for user in users:#Iterando sobre cada usuario\n",
    "    spending_list= user[4] #Extrayendo ingresos del usuario\n",
    "    total_spending = sum(spending_list) #Sumando ingresos del usuario\n",
    "    revenue += total_spending #Sumando y acumulando los ingresos en la variable global revenue\n",
    "    \n",
    "\n",
    "print(f\"Los ingresos totales de la empresa son: ${revenue}\")"
   ]
  },
  {
   "cell_type": "markdown",
   "metadata": {},
   "source": [
    "Este cálculo demuestra habilidad para realizar agregaciones de datos, una tarea fundamental en el análisis cuantitativo. Obtener el valor de los ingresos totales es un KPI (Key Performance Indicator) crucial para la dirección, mostrando capacidad para entregar métricas de negocio relevantes a partir de datos crudos."
   ]
  },
  {
   "cell_type": "markdown",
   "metadata": {
    "id": "R1wNYes8Jm9X"
   },
   "source": [
    "### **Paso 6: Identificación de Clientes Leales y Simulación de Compras**\n",
    "\n",
    "La empresa tiene una nueva iniciativa para recompensar a sus clientes leales ofreciéndoles descuentos exclusivos. Se considera cliente leal a aquel que realiza compras por un **importe total superior a $1500**. Nuestro objetivo es simular este comportamiento de compra hasta que se alcance este umbral, demostrando cómo identificar a estos clientes.\n",
    "\n",
    "**Objetivo**\n",
    "\n",
    "Crearemos un bucle *while* para simular las compras de un cliente hasta que su gasto acumulado supere los $1500. En cada \"nueva compra\" simulada, generaremos un valor aleatorio entre $30 y $80, que se sumará al total gastado por el cliente. Una vez que el total alcance o supere los $1500, el bucle se detendrá y mostraremos el monto final gastado por el cliente.\n",
    "\n",
    "**Acción Clave**\n",
    "\n",
    "Utilizaremos un bucle *while* con una condición que evalúe si el *total_spent* del cliente ha superado el umbral de lealtad ($1500). Dentro del bucle, generaremos montos de *new_purchase* aleatorios y los sumaremos al *total_spent*."
   ]
  },
  {
   "cell_type": "code",
   "execution_count": 7,
   "metadata": {
    "colab": {
     "base_uri": "https://localhost:8080/"
    },
    "id": "eVBfoyx7Jm9X",
    "outputId": "27091cb5-f5f4-4b74-f92a-c2d822354a40",
    "trusted": true
   },
   "outputs": [
    {
     "name": "stdout",
     "output_type": "stream",
     "text": [
      "El monto final gastado es: $1531\n"
     ]
    }
   ],
   "source": [
    "from random import randint\n",
    "\n",
    "total_amount_spent = 1280\n",
    "target_amount = 1500\n",
    "\n",
    "while total_amount_spent < target_amount:# Condición para determinar si es cliente leal\n",
    "\tnew_purchase = randint(30, 80) # generamos un número aleatorio de 30 a 80\n",
    "\ttotal_amount_spent += new_purchase # acumulando el monto gastado\n",
    "\n",
    "print(f\"El monto final gastado es: ${total_amount_spent}\")"
   ]
  },
  {
   "cell_type": "markdown",
   "metadata": {},
   "source": [
    "Este ejercicio demuestra capacidad para aplicar estructuras de control de flujo (*while loops*) y simular escenarios de negocio utilizando lógica de programación. Además, resalta la habilidad para trabajar con generación de datos aleatorios para probar condiciones específicas, lo cual es muy útil en pruebas y modelado de escenarios"
   ]
  },
  {
   "cell_type": "markdown",
   "metadata": {
    "id": "IoyNnalCJm9Z"
   },
   "source": [
    "### **Paso 7: Identificación de Clientes Jóvenes**\n",
    "\n",
    "La empresa está interesada en comprender mejor la demografía de su base de clientes. Específicamente, quieren identificar a los clientes menores de 30 años. Esta información puede ser valiosa para campañas de marketing dirigidas o para entender las preferencias de un segmento más joven.\n",
    "\n",
    "**Objetivo**\n",
    "\n",
    "Nuestro objetivo es iterar a través de la lista de todos los usuarios y, por cada uno, verificar su edad. Si la edad del cliente es menor de 30 años, mostraremos su nombre.\n",
    "\n",
    "**Acción Clave**\n",
    "\n",
    "Vamos a recorrer la lista *users_clean* (o la lista *users* si no has aplicado la limpieza a la lista completa aún). Para cada usuario, accederemos a su edad y a su nombre, aplicando una condición para filtrar solo a aquellos que cumplan con el criterio de edad.\n"
   ]
  },
  {
   "cell_type": "code",
   "execution_count": 8,
   "metadata": {
    "colab": {
     "base_uri": "https://localhost:8080/"
    },
    "id": "pn5WkcpJJm9Z",
    "outputId": "e95fe449-868e-4a89-f9e6-6e3c7b62bd80",
    "trusted": true
   },
   "outputs": [
    {
     "name": "stdout",
     "output_type": "stream",
     "text": [
      "kate\n",
      "samantha\n",
      "emily\n",
      "jose\n",
      "james\n"
     ]
    }
   ],
   "source": [
    "users = [['32415', ['mike', 'reed'], 32, ['electronics', 'sport', 'books'], [894, 213, 173]],\n",
    "         ['31980', ['kate', 'morgan'], 24, ['clothes', 'books'], [439, 390]],\n",
    "         ['32156', ['john', 'doe'], 37, ['electronics', 'home', 'food'], [459, 120, 99]],\n",
    "         ['32761', ['samantha', 'smith'], 29, ['clothes', 'electronics', 'beauty'], [299, 679, 85]],\n",
    "         ['32984', ['david', 'white'], 41, ['books', 'home', 'sport'], [234, 329, 243]],\n",
    "         ['33001', ['emily', 'brown'], 26, ['beauty', 'home', 'food'], [213, 659, 79]],\n",
    "         ['33767', ['maria', 'garcia'], 33, ['clothes', 'food', 'beauty'], [499, 189, 63]],\n",
    "         ['33912', ['jose', 'martinez'], 22, ['sport', 'electronics', 'home'], [259, 549, 109]],\n",
    "         ['34009', ['lisa', 'wilson'], 35, ['home', 'books', 'clothes'], [329, 189, 329]],\n",
    "         ['34278', ['james', 'lee'], 28, ['beauty', 'clothes', 'electronics'], [189, 299, 579]]]\n",
    "\n",
    "\n",
    "for user in users: # Iterando en cada usuario\n",
    "    if user[2]<30: # Condición que usuario tenga edad deseada\n",
    "        print(user[1][0])  #Imprimiendo nombre si cumple condición"
   ]
  },
  {
   "cell_type": "markdown",
   "metadata": {},
   "source": [
    "Este paso demuestra capacidad para realizar filtrado de datos condicional e iterar eficientemente sobre estructuras de datos. Es una habilidad esencial para extraer subconjuntos específicos de información que son relevantes para el negocio, lo cual es fundamental para el análisis demográfico y la segmentación de clientes."
   ]
  },
  {
   "cell_type": "markdown",
   "metadata": {
    "id": "0ok38JMoJm9Z"
   },
   "source": [
    "### **Paso 8: Segmentación de Clientes por Edad y Gasto Total**\n",
    "\n",
    "Continuando con nuestro análisis demográfico y de comportamiento, la empresa ahora busca identificar a un segmento de clientes muy específico: aquellos que son **jóvenes (menores de 30 años)** y que, además, han demostrado un alto nivel de compromiso económico al acumular un **gasto total superior a $1000**. Esta segmentación es vital para campañas de marketing de alto valor o programas de lealtad dirigidos.\n",
    "\n",
    "**Objetivo**\n",
    "\n",
    "Nuestro objetivo es filtrar nuestra lista de usuarios para mostrar los nombres de aquellos clientes que cumplen con dos criterios simultáneamente: tener menos de 30 años de edad y haber gastado un total superior a $1000.\n",
    "\n",
    "**Acciones Clave**\n",
    "\n",
    "Para lograr esta segmentación precisa, vamos a:\n",
    "\n",
    "- Iterar sobre cada usuario en la lista *users_clean.*\n",
    "- Para cada usuario, extraeremos su edad y su lista de gastos totales por categoría.\n",
    "- Sumaremos los gastos de cada usuario para obtener su gasto total acumulado.\n",
    "- Aplicaremos una doble condición de filtrado:\n",
    "    - La edad debe ser menor de 30 años.\n",
    "    - El gasto total acumulado debe ser mayor a $1000.\n",
    "- Finalmente, mostraremos el nombre completo de los usuarios que cumplan ambas condiciones.\n"
   ]
  },
  {
   "cell_type": "code",
   "execution_count": 9,
   "metadata": {
    "colab": {
     "base_uri": "https://localhost:8080/"
    },
    "id": "4oAW1QDFJm9Z",
    "outputId": "c514027b-62cc-42bd-a8bb-d29975abd663",
    "trusted": true
   },
   "outputs": [
    {
     "name": "stdout",
     "output_type": "stream",
     "text": [
      "samantha\n",
      "james\n"
     ]
    }
   ],
   "source": [
    "users = [['32415', ['mike', 'reed'], 32, ['electronics', 'sport', 'books'], [894, 213, 173]],\n",
    "         ['31980', ['kate', 'morgan'], 24, ['clothes', 'books'], [439, 390]],\n",
    "         ['32156', ['john', 'doe'], 37, ['electronics', 'home', 'food'], [459, 120, 99]],\n",
    "         ['32761', ['samantha', 'smith'], 29, ['clothes', 'electronics', 'beauty'], [299, 679, 85]],\n",
    "         ['32984', ['david', 'white'], 41, ['books', 'home', 'sport'], [234, 329, 243]],\n",
    "         ['33001', ['emily', 'brown'], 26, ['beauty', 'home', 'food'], [213, 659, 79]],\n",
    "         ['33767', ['maria', 'garcia'], 33, ['clothes', 'food', 'beauty'], [499, 189, 63]],\n",
    "         ['33912', ['jose', 'martinez'], 22, ['sport', 'electronics', 'home'], [259, 549, 109]],\n",
    "         ['34009', ['lisa', 'wilson'], 35, ['home', 'books', 'clothes'], [329, 189, 329]],\n",
    "         ['34278', ['james', 'lee'], 28, ['beauty', 'clothes', 'electronics'], [189, 299, 579]]]\n",
    "\n",
    "for user in users: #Iterando en cada cliente\n",
    "    if user[2]<30 and sum(user[4])>1000: #Especificando condiciones a cumplir\n",
    "        print(user[1][0]) #Imprimiendo el nombre del cliente"
   ]
  },
  {
   "cell_type": "markdown",
   "metadata": {},
   "source": [
    "Este paso demuestra habilidad para realizar filtrados de datos complejos combinando múltiples criterios, una tarea esencial en la segmentación de clientes. Al identificar a estos clientes de alto valor y jóvenes, proporcionas insights cruciales para estrategias de negocio focalizadas"
   ]
  },
  {
   "cell_type": "markdown",
   "metadata": {
    "id": "H2jI5ljVJm9d"
   },
   "source": [
    "### **Paso 9: Identificación de Compradores de Ropa**\n",
    "\n",
    "La dirección de la empresa está interesada en analizar las preferencias de compra por categoría. Específicamente, quieren identificar a todos los clientes que han adquirido productos de la categoría \"clothes\" (ropa). Esta información es valiosa para entender la base de clientes interesada en moda y para futuras campañas de marketing segmentadas.\n",
    "\n",
    "**Objetivo**\n",
    "\n",
    "Nuestro objetivo es iterar a través de la lista de usuarios y, para cada uno, verificar si han comprado artículos en la categoría \"clothes\". Si un usuario ha comprado ropa, imprimiremos su nombre completo y su edad en una misma línea.\n",
    "\n",
    "**Acciones Clave**\n",
    "\n",
    "Para lograr esto, vamos a:\n",
    "\n",
    "- Iterar sobre cada registro de usuario en nuestra lista *users_clean*.\n",
    "- Para cada usuario, accederemos a su lista de categorías favoritas (*fav_categories*).\n",
    "- Verificaremos si la cadena \"*clothes*\" (ya normalizada a minúsculas, gracias a nuestros pasos de limpieza anteriores) está presente en su lista de *fav_categories*.\n",
    "- Si se encuentra la categoría, extraeremos el nombre (unimos el nombre y apellido si están en una sublista) y la edad del usuario.\n",
    "- Finalmente, imprimiremos el nombre y la edad juntos en una sola declaración.\n"
   ]
  },
  {
   "cell_type": "code",
   "execution_count": 10,
   "metadata": {
    "colab": {
     "base_uri": "https://localhost:8080/"
    },
    "id": "oSLk86udJm9d",
    "outputId": "5c323307-6591-4af9-c2d2-529a329367d6",
    "trusted": true
   },
   "outputs": [
    {
     "name": "stdout",
     "output_type": "stream",
     "text": [
      "kate 24\n",
      "samantha 29\n",
      "maria 33\n",
      "lisa 35\n",
      "james 28\n"
     ]
    }
   ],
   "source": [
    "users = [['32415', ['mike', 'reed'], 32, ['electronics', 'sport', 'books'], [894, 213, 173]],\n",
    "         ['31980', ['kate', 'morgan'], 24, ['clothes', 'books'], [439, 390]],\n",
    "         ['32156', ['john', 'doe'], 37, ['electronics', 'home', 'food'], [459, 120, 99]],\n",
    "         ['32761', ['samantha', 'smith'], 29, ['clothes', 'electronics', 'beauty'], [299, 679, 85]],\n",
    "         ['32984', ['david', 'white'], 41, ['books', 'home', 'sport'], [234, 329, 243]],\n",
    "         ['33001', ['emily', 'brown'], 26, ['beauty', 'home', 'food'], [213, 659, 79]],\n",
    "         ['33767', ['maria', 'garcia'], 33, ['clothes', 'food', 'beauty'], [499, 189, 63]],\n",
    "         ['33912', ['jose', 'martinez'], 22, ['sport', 'electronics', 'home'], [259, 549, 109]],\n",
    "         ['34009', ['lisa', 'wilson'], 35, ['home', 'books', 'clothes'], [329, 189, 329]],\n",
    "         ['34278', ['james', 'lee'], 28, ['beauty', 'clothes', 'electronics'], [189, 299, 579]]]\n",
    "\n",
    "for user in users: #Iterando en cada cliente\n",
    "    if \"clothes\" in user[3]: # Condición que hayan comprado \"clothes\"\n",
    "        print(f\"{user[1][0]} {user[2]}\") #Imprimiendo nombre y edad"
   ]
  },
  {
   "cell_type": "markdown",
   "metadata": {},
   "source": [
    "Este paso demuestra la capacidad para realizar búsquedas y filtrados basados en valores específicos dentro de listas anidadas, una habilidad esencial para el análisis de comportamiento del cliente y la segmentación del mercado. Permite a la empresa identificar rápidamente segmentos de clientes interesados en productos específicos."
   ]
  },
  {
   "cell_type": "markdown",
   "metadata": {
    "id": "88QES-0NJzCJ"
   },
   "source": [
    "### **Paso 10: Creación de la Función get_client_by_cat para Filtrado Detallado de Clientes**\n",
    "\n",
    "Para responder a las necesidades específicas de la dirección, vamos a desarrollar una función avanzada que permita **extraer información detallada de los clientes, filtrada por categorías de compra**. Esta función consolidará varios de los conceptos que hemos explorado hasta ahora, demostrando tu capacidad para construir herramientas analíticas reutilizables y potentes.\n",
    "\n",
    "**Objetivo**\n",
    "\n",
    "Nuestro objetivo es crear una función robusta llamada *get_client_by_cat*. Esta función tomará la lista completa de usuarios, junto con los índices específicos de cada campo relevante. Su propósito es identificar y devolver una lista de clientes que hayan comprado en una *filter_category* específica, proporcionando su ID, nombre completo, edad y el gasto total acumulado (no solo el gasto en esa categoría específica, sino el total general).\n",
    "\n",
    "**Especificaciones de la Función get_client_by_cat**\n",
    "\n",
    "La función estará diseñada con los siguientes parámetros y su salida esperada:\n",
    "\n",
    "Parámetros:\n",
    "- ***users***: Una lista que contiene los datos de todos los usuarios (se recomienda usar users_clean).\n",
    "- ***id_index***: El índice numérico donde se encuentra el ID del cliente dentro de cada sublista de usuario.\n",
    "- ***name_index***: El índice donde el nombre del cliente (como sublista ['nombre', 'apellido']) está almacenado.\n",
    "- ***age_index***: El índice donde la edad del cliente (como entero) está almacenada.\n",
    "- ***category_index***: El índice donde la lista de categorías de compras (fav_categories) está almacenada.\n",
    "- ***amounts_index***: El índice donde la lista de cantidades gastadas por categoría (total_spendings) está almacenada.\n",
    "- ***filter_category***: Un string que representa el nombre de la categoría por la cual deseamos filtrar a los clientes (ej., 'clothes', 'electronics'). Esta categoría debe ser proporcionada en minúsculas para coincidir con nuestros datos normalizados.\n",
    "\n",
    "**Salida**\n",
    "\n",
    "La función devolverá una lista de sublistas. Cada sublista dentro de la salida contendrá la siguiente información para cada cliente que cumpla con el criterio de la categoría de filtro:\n",
    "\n",
    "- El ID del cliente.\n",
    "- Una sublista con el nombre y apellido del cliente.\n",
    "- La edad del cliente.\n",
    "- Un entero que representa la cantidad total gastada por el cliente en todas sus categorías (no solo en la categoría filtrada).\n",
    "\n",
    "\n",
    "\n"
   ]
  },
  {
   "cell_type": "code",
   "execution_count": 11,
   "metadata": {
    "colab": {
     "base_uri": "https://localhost:8080/"
    },
    "id": "-Iqf7AcXJzCP",
    "outputId": "ab62869b-a028-4096-9553-e0a5b5a8c92e",
    "trusted": true
   },
   "outputs": [
    {
     "name": "stdout",
     "output_type": "stream",
     "text": [
      "[['32156', ['john', 'doe'], 37, 678], ['32984', ['david', 'white'], 41, 806], ['33001', ['emily', 'brown'], 26, 951], ['33912', ['jose', 'martinez'], 22, 917], ['34009', ['lisa', 'wilson'], 35, 847]]\n"
     ]
    }
   ],
   "source": [
    "def get_client_by_cat(users, id_index, name_index,age_index,category_index,amounts_index,filter_category): #Función con parámetros\n",
    "    filter_clients=[] #Lista donde se almacenará el filtro\n",
    "    for client in users:#Iterando en cada cliente\n",
    "        if filter_category in client[category_index]: #Condicion para filtrar por categoria\n",
    "            total_spendings=sum(client[amounts_index])\n",
    "            filter_clients.append([\n",
    "                                client[id_index],\n",
    "                                client[name_index],\n",
    "                                client[age_index],\n",
    "                                total_spendings\n",
    "                                ]) #Agregando elementos deseados a lista filtrada \n",
    "    return filter_clients #Regresa lista filtrada\n",
    "\n",
    "# La lista de usuarios\n",
    "users = [\n",
    "    ['32415', ['mike', 'reed'], 32, ['electronics', 'sport', 'books'], [894, 213, 173]],\n",
    "    ['31980', ['kate', 'morgan'], 24, ['clothes', 'books'], [439, 390]],\n",
    "    ['32156', ['john', 'doe'], 37, ['electronics', 'home', 'food'], [459, 120, 99]],\n",
    "    ['32761', ['samantha', 'smith'], 29, ['clothes', 'electronics', 'beauty'], [299, 679, 85]],\n",
    "    ['32984', ['david', 'white'], 41, ['books', 'home', 'sport'], [234, 329, 243]],\n",
    "    ['33001', ['emily', 'brown'], 26, ['beauty', 'home', 'food'], [213, 659, 79]],\n",
    "    ['33767', ['maria', 'garcia'], 33, ['clothes', 'food', 'beauty'], [499, 189, 63]],\n",
    "    ['33912', ['jose', 'martinez'], 22, ['sport', 'electronics', 'home'], [259, 549, 109]],\n",
    "    ['34009', ['lisa', 'wilson'], 35, ['home', 'books', 'clothes'], [329, 189, 329]],\n",
    "    ['34278', ['james', 'lee'], 28, ['beauty', 'clothes', 'electronics'], [189, 299, 579]]\n",
    "]\n",
    "\n",
    "# Llama a la función con la categoría 'home'\n",
    "result = get_client_by_cat(users,0,1,2,3,4,'home')# Llamando a función con parámetros\n",
    "\n",
    "# Muestra en pantalla la lista que resulta\n",
    "print(result)\n"
   ]
  },
  {
   "cell_type": "markdown",
   "metadata": {},
   "source": [
    "Esta función *get_client_by_cat* es un excelente ejemplo de cómo aplicar las habilidades de programación funcional y manipulación de datos complejos para construir herramientas analíticas reutilizables. Demuestra ña capacidad para imprimir la lógica de negocio en código eficiente, una competencia clave para cualquier analista de datos."
   ]
  }
 ],
 "metadata": {
  "ExecuteTimeLog": [
   {
    "duration": 11,
    "start_time": "2024-12-31T19:08:34.994Z"
   },
   {
    "duration": 4,
    "start_time": "2024-12-31T19:09:07.298Z"
   },
   {
    "duration": 6,
    "start_time": "2024-12-31T19:10:48.248Z"
   },
   {
    "duration": 4,
    "start_time": "2024-12-31T19:33:58.490Z"
   },
   {
    "duration": 4,
    "start_time": "2024-12-31T19:34:30.341Z"
   },
   {
    "duration": 4,
    "start_time": "2024-12-31T19:35:00.729Z"
   },
   {
    "duration": 5,
    "start_time": "2024-12-31T19:35:51.157Z"
   },
   {
    "duration": 4,
    "start_time": "2024-12-31T19:35:54.520Z"
   },
   {
    "duration": 4,
    "start_time": "2024-12-31T19:36:16.462Z"
   },
   {
    "duration": 4,
    "start_time": "2024-12-31T19:38:28.410Z"
   },
   {
    "duration": 4,
    "start_time": "2024-12-31T19:38:36.563Z"
   },
   {
    "duration": 3,
    "start_time": "2024-12-31T19:38:45.412Z"
   },
   {
    "duration": 4,
    "start_time": "2024-12-31T19:39:10.930Z"
   },
   {
    "duration": 5,
    "start_time": "2024-12-31T19:48:29.305Z"
   },
   {
    "duration": 3,
    "start_time": "2025-01-01T03:56:40.789Z"
   },
   {
    "duration": 3,
    "start_time": "2025-01-01T03:56:51.295Z"
   },
   {
    "duration": 5,
    "start_time": "2025-01-01T04:03:27.061Z"
   },
   {
    "duration": 4,
    "start_time": "2025-01-01T04:03:43.679Z"
   },
   {
    "duration": 5,
    "start_time": "2025-01-01T04:03:55.547Z"
   },
   {
    "duration": 5,
    "start_time": "2025-01-01T04:03:59.695Z"
   },
   {
    "duration": 9,
    "start_time": "2025-01-01T04:04:14.059Z"
   },
   {
    "duration": 162,
    "start_time": "2025-01-01T04:04:23.002Z"
   },
   {
    "duration": 20,
    "start_time": "2025-01-01T04:05:18.552Z"
   },
   {
    "duration": 163,
    "start_time": "2025-01-01T15:14:09.923Z"
   },
   {
    "duration": 20,
    "start_time": "2025-01-01T15:17:35.966Z"
   },
   {
    "duration": 21,
    "start_time": "2025-01-01T15:18:58.552Z"
   },
   {
    "duration": 6,
    "start_time": "2025-01-01T15:19:05.411Z"
   },
   {
    "duration": 5,
    "start_time": "2025-01-01T15:19:15.701Z"
   },
   {
    "duration": 20,
    "start_time": "2025-01-01T15:19:20.311Z"
   },
   {
    "duration": 19,
    "start_time": "2025-01-01T15:19:28.597Z"
   },
   {
    "duration": 9,
    "start_time": "2025-01-01T15:21:30.603Z"
   },
   {
    "duration": 6,
    "start_time": "2025-01-01T15:22:51.487Z"
   },
   {
    "duration": 45,
    "start_time": "2025-01-01T15:23:14.536Z"
   },
   {
    "duration": 18,
    "start_time": "2025-01-01T15:23:26.750Z"
   },
   {
    "duration": 6,
    "start_time": "2025-01-01T15:24:42.003Z"
   },
   {
    "duration": 18,
    "start_time": "2025-01-01T15:25:00.434Z"
   },
   {
    "duration": 19,
    "start_time": "2025-01-01T15:25:57.850Z"
   },
   {
    "duration": 7,
    "start_time": "2025-01-01T15:26:09.164Z"
   },
   {
    "duration": 19,
    "start_time": "2025-01-01T15:26:28.700Z"
   },
   {
    "duration": 19,
    "start_time": "2025-01-01T15:27:21.727Z"
   },
   {
    "duration": 19,
    "start_time": "2025-01-01T15:28:14.399Z"
   },
   {
    "duration": 6,
    "start_time": "2025-01-01T15:36:15.405Z"
   },
   {
    "duration": 5,
    "start_time": "2025-01-01T15:39:28.033Z"
   },
   {
    "duration": 7,
    "start_time": "2025-01-01T15:43:53.977Z"
   },
   {
    "duration": 4,
    "start_time": "2025-01-01T15:45:31.810Z"
   },
   {
    "duration": 3,
    "start_time": "2025-01-01T16:04:29.581Z"
   },
   {
    "duration": 8,
    "start_time": "2025-01-01T16:04:43.778Z"
   },
   {
    "duration": 7,
    "start_time": "2025-01-01T16:04:53.212Z"
   },
   {
    "duration": 21,
    "start_time": "2025-01-01T16:21:10.333Z"
   },
   {
    "duration": 6,
    "start_time": "2025-01-01T16:21:18.007Z"
   },
   {
    "duration": 6,
    "start_time": "2025-01-01T16:22:16.499Z"
   },
   {
    "duration": 3,
    "start_time": "2025-01-01T16:30:32.287Z"
   },
   {
    "duration": 21,
    "start_time": "2025-01-01T16:35:36.339Z"
   },
   {
    "duration": 6,
    "start_time": "2025-01-01T16:35:50.592Z"
   },
   {
    "duration": 6,
    "start_time": "2025-01-01T16:35:58.901Z"
   },
   {
    "duration": 6,
    "start_time": "2025-01-01T16:38:01.598Z"
   },
   {
    "duration": 5,
    "start_time": "2025-01-01T16:38:53.989Z"
   },
   {
    "duration": 6,
    "start_time": "2025-01-01T16:43:29.443Z"
   },
   {
    "duration": 8,
    "start_time": "2025-01-01T16:46:16.108Z"
   },
   {
    "duration": 19,
    "start_time": "2025-01-01T16:47:23.778Z"
   },
   {
    "duration": 5,
    "start_time": "2025-01-01T16:47:37.557Z"
   },
   {
    "duration": 27,
    "start_time": "2025-01-01T17:25:20.735Z"
   },
   {
    "duration": 6,
    "start_time": "2025-01-01T17:26:35.973Z"
   },
   {
    "duration": 8,
    "start_time": "2025-01-01T17:36:12.111Z"
   },
   {
    "duration": 4,
    "start_time": "2025-01-01T17:36:12.122Z"
   },
   {
    "duration": 3,
    "start_time": "2025-01-01T17:36:12.128Z"
   },
   {
    "duration": 6,
    "start_time": "2025-01-01T17:36:12.133Z"
   },
   {
    "duration": 6,
    "start_time": "2025-01-01T17:36:12.141Z"
   },
   {
    "duration": 6,
    "start_time": "2025-01-01T17:36:12.150Z"
   },
   {
    "duration": 4,
    "start_time": "2025-01-01T17:36:12.157Z"
   },
   {
    "duration": 6,
    "start_time": "2025-01-01T17:36:12.162Z"
   },
   {
    "duration": 7,
    "start_time": "2025-01-01T17:36:12.205Z"
   },
   {
    "duration": 7,
    "start_time": "2025-01-01T17:36:12.214Z"
   },
   {
    "duration": 8,
    "start_time": "2025-01-01T17:36:12.223Z"
   },
   {
    "duration": 5,
    "start_time": "2025-01-01T17:37:00.040Z"
   }
  ],
  "colab": {
   "provenance": []
  },
  "kernelspec": {
   "display_name": "Python 3 (ipykernel)",
   "language": "python",
   "name": "python3"
  },
  "language_info": {
   "codemirror_mode": {
    "name": "ipython",
    "version": 3
   },
   "file_extension": ".py",
   "mimetype": "text/x-python",
   "name": "python",
   "nbconvert_exporter": "python",
   "pygments_lexer": "ipython3",
   "version": "3.9.19"
  },
  "toc": {
   "base_numbering": 1,
   "nav_menu": {},
   "number_sections": true,
   "sideBar": true,
   "skip_h1_title": true,
   "title_cell": "Table of Contents",
   "title_sidebar": "Contents",
   "toc_cell": false,
   "toc_position": {},
   "toc_section_display": true,
   "toc_window_display": false
  }
 },
 "nbformat": 4,
 "nbformat_minor": 1
}
